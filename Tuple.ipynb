{
 "cells": [
  {
   "cell_type": "code",
   "execution_count": 1,
   "id": "70271e01-6541-4b85-978f-73279186e9c3",
   "metadata": {},
   "outputs": [],
   "source": [
    "#Tuple Methods"
   ]
  },
  {
   "cell_type": "code",
   "execution_count": 2,
   "id": "e9a6d457-0fc3-4ca4-8096-0cb6d3b8233f",
   "metadata": {},
   "outputs": [
    {
     "data": {
      "text/plain": [
       "tuple"
      ]
     },
     "execution_count": 2,
     "metadata": {},
     "output_type": "execute_result"
    }
   ],
   "source": [
    "#Tuple \n",
    "my_tuple = (\"Dhanashri\", \"Raj\", \"Anushaka\",\"Raj\")\n",
    "type(my_tuple)"
   ]
  },
  {
   "cell_type": "code",
   "execution_count": 3,
   "id": "40a7acc2-f8a8-4eb0-aca0-4abbecb1ace0",
   "metadata": {},
   "outputs": [
    {
     "data": {
      "text/plain": [
       "2"
      ]
     },
     "execution_count": 3,
     "metadata": {},
     "output_type": "execute_result"
    }
   ],
   "source": [
    "my_tuple.index(\"Anushaka\")"
   ]
  },
  {
   "cell_type": "code",
   "execution_count": 4,
   "id": "bcbc2dea-f933-4bd6-b969-7c52d23099ea",
   "metadata": {},
   "outputs": [
    {
     "data": {
      "text/plain": [
       "2"
      ]
     },
     "execution_count": 4,
     "metadata": {},
     "output_type": "execute_result"
    }
   ],
   "source": [
    "my_tuple.count(\"Raj\")"
   ]
  },
  {
   "cell_type": "code",
   "execution_count": 11,
   "id": "ffe6e146-7abe-4e75-95e4-2919468640fc",
   "metadata": {},
   "outputs": [
    {
     "data": {
      "text/plain": [
       "('p', 'y', 't', 'h', 'o', 'n', 16, 2, 13)"
      ]
     },
     "execution_count": 11,
     "metadata": {},
     "output_type": "execute_result"
    }
   ],
   "source": [
    "a=(16,2,13)\n",
    "\n",
    "my_tuple+a"
   ]
  },
  {
   "cell_type": "code",
   "execution_count": 6,
   "id": "b51477af-a01a-471b-82f1-baf413add1a0",
   "metadata": {},
   "outputs": [
    {
     "data": {
      "text/plain": [
       "('p', 'y', 't', 'h', 'o', 'n')"
      ]
     },
     "execution_count": 6,
     "metadata": {},
     "output_type": "execute_result"
    }
   ],
   "source": [
    "#Slicing\n",
    "my_tuple = ('p','y','t','h','o','n')\n",
    "\n",
    "my_tuple"
   ]
  },
  {
   "cell_type": "code",
   "execution_count": 7,
   "id": "d7fd0c2c-a302-4136-b75a-2f4640f7053f",
   "metadata": {},
   "outputs": [
    {
     "data": {
      "text/plain": [
       "1"
      ]
     },
     "execution_count": 7,
     "metadata": {},
     "output_type": "execute_result"
    }
   ],
   "source": [
    "#index \n",
    "my_tuple.count(\"o\")"
   ]
  },
  {
   "cell_type": "code",
   "execution_count": 8,
   "id": "d6979640-4674-43b5-9f43-dbf0d5163c65",
   "metadata": {},
   "outputs": [
    {
     "data": {
      "text/plain": [
       "('y', 't', 'h', 'o')"
      ]
     },
     "execution_count": 8,
     "metadata": {},
     "output_type": "execute_result"
    }
   ],
   "source": [
    "# index 0 to 5\n",
    "my_tuple[1:5]"
   ]
  },
  {
   "cell_type": "code",
   "execution_count": 9,
   "id": "03a8dce8-dd15-49cb-9605-1c7f63afdd5c",
   "metadata": {},
   "outputs": [
    {
     "name": "stdout",
     "output_type": "stream",
     "text": [
      "True\n"
     ]
    }
   ],
   "source": [
    "# In operation\n",
    "print('t' in my_tuple)"
   ]
  },
  {
   "cell_type": "code",
   "execution_count": 10,
   "id": "a500da2b-a862-4471-81cd-874022744f0e",
   "metadata": {},
   "outputs": [
    {
     "name": "stdout",
     "output_type": "stream",
     "text": [
      "False\n"
     ]
    }
   ],
   "source": [
    "print('d' in my_tuple)"
   ]
  },
  {
   "cell_type": "code",
   "execution_count": null,
   "id": "0428122c-333c-498b-bcc3-c2f37f31b903",
   "metadata": {},
   "outputs": [],
   "source": []
  }
 ],
 "metadata": {
  "kernelspec": {
   "display_name": "Python 3 (ipykernel)",
   "language": "python",
   "name": "python3"
  },
  "language_info": {
   "codemirror_mode": {
    "name": "ipython",
    "version": 3
   },
   "file_extension": ".py",
   "mimetype": "text/x-python",
   "name": "python",
   "nbconvert_exporter": "python",
   "pygments_lexer": "ipython3",
   "version": "3.10.0"
  }
 },
 "nbformat": 4,
 "nbformat_minor": 5
}
